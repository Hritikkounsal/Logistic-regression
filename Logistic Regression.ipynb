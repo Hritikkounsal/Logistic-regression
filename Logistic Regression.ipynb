{
 "cells": [
  {
   "cell_type": "code",
   "execution_count": 102,
   "metadata": {},
   "outputs": [
    {
     "data": {
      "image/png": "[encoded data removed]",
      "text/plain": [
       "<matplotlib.figure.Figure at 0x7faf5a779890>"
      ]
     },
     "metadata": {},
     "output_type": "display_data"
    }
   ],
   "source": [
    "import pandas as pd\n",
    "import numpy as np\n",
    "from matplotlib import pyplot as plt\n",
    "data=pd.read_csv(\"2.txt\")\n",
    "x1=data[\"Exam 1\"]\n",
    "x2=data[\"Exam 2\"]\n",
    "cols=data.shape[1]\n",
    "y=np.array(data['cls'])\n",
    "m=x1.size\n",
    "plt.xlabel(\"Exam 1\")\n",
    "plt.ylabel(\"Exam 2\")\n",
    "for i in range(0, m):\n",
    "        if y[i]==0.0:\n",
    "            plt.scatter(x1[i],x2[i],marker=\"+\",color=\"yellow\",label=\"Not Admitted\")\n",
    "        elif y[i]==1.0:\n",
    "            plt.scatter(x1[i],x2[i],color=\"black\",label=\"Admitted\")\n",
    "plt.show()"
   ]
  },
  {
   "cell_type": "code",
   "execution_count": 94,
   "metadata": {},
   "outputs": [],
   "source": [
    "x0=np.ones(m)\n",
    "X=np.array([x0,x1,x2]).T\n",
    "\n"
   ]
  },
  {
   "cell_type": "code",
   "execution_count": 14,
   "metadata": {},
   "outputs": [
    {
     "name": "stdout",
     "output_type": "stream",
     "text": [
      "\n"
     ]
    }
   ],
   "source": [
    "def sigmoid(Z):\n",
    "    return (1/(1+np.exp(-Z)))\n",
    "    "
   ]
  },
  {
   "cell_type": "code",
   "execution_count": 9,
   "metadata": {},
   "outputs": [
    {
     "name": "stdout",
     "output_type": "stream",
     "text": [
      "\n"
     ]
    }
   ],
   "source": [
    "def cost(theta,X,y):\n",
    "    \n",
    "    h=sigmoid(X.dot(theta))\n",
    "    return ((-y * np.log(h) - (1 - y) * np.log(1 - h)).mean())\n",
    "    "
   ]
  },
  {
   "cell_type": "code",
   "execution_count": 10,
   "metadata": {},
   "outputs": [],
   "source": [
    "def gradient(theta, X, y):  \n",
    "    theta = np.matrix(theta)\n",
    "    X = np.matrix(X)\n",
    "    y = np.matrix(y)\n",
    "    grad = np.zeros(theta.size)\n",
    "    error = sigmoid(X * theta.T) - y\n",
    "    for i in range(theta.size):\n",
    "        term = np.multiply(error, X[:,i])\n",
    "        grad[i] = np.sum(term) / len(X)\n",
    "\n",
    "    return grad"
   ]
  },
  {
   "cell_type": "code",
   "execution_count": 227,
   "metadata": {},
   "outputs": [
    {
     "name": "stdout",
     "output_type": "stream",
     "text": [
      "the initial cost is 0.69314718056\n",
      "the  gradient is [ -0.1        -12.00921659 -11.26284221]\n"
     ]
    }
   ],
   "source": [
    "print \"the initial cost is\",cost(theta,X,y)\n",
    "init_grad=gradient(theta, X, y)\n",
    "print \"the  gradient is\",init_grad"
   ]
  },
  {
   "cell_type": "code",
   "execution_count": 108,
   "metadata": {},
   "outputs": [
    {
     "name": "stdout",
     "output_type": "stream",
     "text": [
      "the coefficients are [-22.27070873   0.63394463   0.3360934 ]\n"
     ]
    }
   ],
   "source": [
    "print \"the coefficients are\",gradient_descent(X,y,theta)"
   ]
  },
  {
   "cell_type": "code",
   "execution_count": 147,
   "metadata": {},
   "outputs": [],
   "source": [
    "def gradient_descent(X,y):\n",
    "    theta=np.zeros(X.shape[1])\n",
    "    num_iter=100000\n",
    "    cost_hist=np.zeros(num_iter)\n",
    "    alpha=0.001\n",
    "    for i in range(num_iter):\n",
    "#         z = np.dot(X,theta.T)\n",
    "#         h = sigmoid(z)\n",
    "#         g=X.T.dot(h - y) / y.size\n",
    "            z = np.dot(X,theta)\n",
    "            h = sigmoid(z)\n",
    "            gr = np.dot(X.T, (h - y)) / y.size\n",
    "            theta -= alpha * gr\n",
    "            cost_hist[i]=cost(theta,X,y)\n",
    "    return theta,cost_hist"
   ]
  },
  {
   "cell_type": "code",
   "execution_count": 151,
   "metadata": {},
   "outputs": [
    {
     "name": "stdout",
     "output_type": "stream",
     "text": [
      "the final parameters are  [-4.81180027  0.04528064  0.03819149]\n"
     ]
    }
   ],
   "source": [
    "fnal,hist=gradient_descent(X,y)\n",
    "print \"the final parameters are \",fnal"
   ]
  },
  {
   "cell_type": "code",
   "execution_count": 149,
   "metadata": {},
   "outputs": [
    {
     "data": {
      "text/plain": [
       "<matplotlib.text.Text at 0x7faf5a5bc510>"
      ]
     },
     "execution_count": 149,
     "metadata": {},
     "output_type": "execute_result"
    },
    {
     "data": {
      "image/png": "[encoded data removed]",
      "text/plain": [
       "<matplotlib.figure.Figure at 0x7faf5a568ed0>"
      ]
     },
     "metadata": {},
     "output_type": "display_data"
    }
   ],
   "source": [
    "\n",
    "plt.plot(hist)\n",
    "plt.ylabel('Cost J')\n",
    "plt.xlabel('Iterations')"
   ]
  },
  {
   "cell_type": "code",
   "execution_count": null,
   "metadata": {},
   "outputs": [],
   "source": []
  },
  {
   "cell_type": "code",
   "execution_count": null,
   "metadata": {},
   "outputs": [],
   "source": []
  },
  {
   "cell_type": "code",
   "execution_count": null,
   "metadata": {},
   "outputs": [],
   "source": []
  }
 ],
 "metadata": {
  "kernelspec": {
   "display_name": "Python 2",
   "language": "python",
   "name": "python2"
  },
  "language_info": {
   "codemirror_mode": {
    "name": "ipython",
    "version": 2
   },
   "file_extension": ".py",
   "mimetype": "text/x-python",
   "name": "python",
   "nbconvert_exporter": "python",
   "pygments_lexer": "ipython2",
   "version": "2.7.12"
  }
 },
 "nbformat": 4,
 "nbformat_minor": 2
}
